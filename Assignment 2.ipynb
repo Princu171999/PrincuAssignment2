{
 "cells": [
  {
   "cell_type": "code",
   "execution_count": 5,
   "metadata": {},
   "outputs": [
    {
     "name": "stdout",
     "output_type": "stream",
     "text": [
      "The sum of the list is:\t17\n"
     ]
    }
   ],
   "source": [
    "def myreduce(func , lst):\n",
    "    flag=lst[0]\n",
    "    for item in lst[1:]:\n",
    "        flag=func(flag,item)\n",
    "    return flag\n",
    "\n",
    "def sums(a,b):\n",
    "    return a+b\n",
    "\n",
    "list_of_input=[1,2,3,6,5]\n",
    "result=myreduce(sums,list_of_input)\n",
    "print(\"The sum of the list is:\\t\" + str(result))"
   ]
  },
  {
   "cell_type": "code",
   "execution_count": 12,
   "metadata": {},
   "outputs": [
    {
     "name": "stdout",
     "output_type": "stream",
     "text": [
      "The positive numbers in the list are: [1, 2, 8, 9]\n"
     ]
    }
   ],
   "source": [
    "def filter(func, lst):\n",
    "    result=[]\n",
    "    for items in lst:\n",
    "        if func(items):\n",
    "            result.append(items)\n",
    "    return result\n",
    "\n",
    "def positive(flag): # A function to return positive numbers from the input list\n",
    "    if(flag > 0 ):\n",
    "        return True\n",
    "    else:\n",
    "        return False\n",
    "\n",
    "list_of_input=[1,2,8,-6,9,-4,0]\n",
    "result=filter(positive , list_of_input)\n",
    "print(\"The positive numbers in the list are: \" + str(result))"
   ]
  },
  {
   "cell_type": "code",
   "execution_count": 15,
   "metadata": {},
   "outputs": [
    {
     "name": "stdout",
     "output_type": "stream",
     "text": [
      "['A', 'C', 'A', 'D', 'G', 'I', 'L', 'D']\n"
     ]
    }
   ],
   "source": [
    "lst='ACADGILD'\n",
    "print([i for i in lst]) "
   ]
  },
  {
   "cell_type": "code",
   "execution_count": 13,
   "metadata": {},
   "outputs": [
    {
     "name": "stdout",
     "output_type": "stream",
     "text": [
      "['x', 'xx', 'xxx', 'xxxx', 'y', 'yy', 'yyy', 'yyyy', 'z', 'zz', 'zzz', 'zzzz']\n"
     ]
    }
   ],
   "source": [
    "lst=['x' , 'y' , 'z']\n",
    "print([flag*i for flag in lst for i in range(1,5)]) # Using list comprehension"
   ]
  },
  {
   "cell_type": "code",
   "execution_count": 16,
   "metadata": {},
   "outputs": [
    {
     "name": "stdout",
     "output_type": "stream",
     "text": [
      "['x', 'y', 'z', 'xx', 'yy', 'zz', 'xxx', 'yyy', 'zzz', 'xxxx', 'yyyy', 'zzzz']\n"
     ]
    }
   ],
   "source": [
    "lst=['x' , 'y' , 'z']\n",
    "print([flag*i for i in range(1,5) for flag in lst])"
   ]
  },
  {
   "cell_type": "code",
   "execution_count": 17,
   "metadata": {},
   "outputs": [
    {
     "name": "stdout",
     "output_type": "stream",
     "text": [
      "[[2], [3], [4], [3], [4], [5], [4], [5], [6]]\n"
     ]
    }
   ],
   "source": [
    "lst=[2,3,4]\n",
    "print([[flag + i] for flag in lst for i in range(0,3)])\n"
   ]
  },
  {
   "cell_type": "code",
   "execution_count": 18,
   "metadata": {},
   "outputs": [
    {
     "name": "stdout",
     "output_type": "stream",
     "text": [
      "[[2, 3, 4, 5], [3, 4, 5, 6], [4, 5, 6, 7], [5, 6, 7, 8]]\n"
     ]
    }
   ],
   "source": [
    "lst=[2,3,4,5]\n",
    "print([[flag + i for flag in lst] for i in range(0,4)])\n"
   ]
  },
  {
   "cell_type": "code",
   "execution_count": 19,
   "metadata": {},
   "outputs": [
    {
     "name": "stdout",
     "output_type": "stream",
     "text": [
      "[(1, 1), (2, 1), (3, 1), (1, 2), (2, 2), (3, 2), (1, 3), (2, 3), (3, 3)]\n"
     ]
    }
   ],
   "source": [
    "lst=[1,2,3]\n",
    "print([(i,flag) for flag in lst for i in lst])"
   ]
  },
  {
   "cell_type": "code",
   "execution_count": 31,
   "metadata": {},
   "outputs": [
    {
     "name": "stdout",
     "output_type": "stream",
     "text": [
      "The longest word has 7 albhabets.\n"
     ]
    }
   ],
   "source": [
    "def longesrWord(lst):\n",
    "    count=[]\n",
    "    for i in lst:\n",
    "        count.append(len(i))\n",
    "    return max(count)\n",
    "\n",
    "result = longesrWord(['Princu' , 'Singh' , 'is' , 'a' , 'student'])\n",
    "print(\"The longest word has \" + str(result) + \" albhabets.\")"
   ]
  },
  {
   "cell_type": "code",
   "execution_count": 48,
   "metadata": {},
   "outputs": [
    {
     "name": "stdout",
     "output_type": "stream",
     "text": [
      "The area of triangle is:  2.9047375096555625\n"
     ]
    }
   ],
   "source": [
    "class triangle:\n",
    "    def __init__(self, sideA, sideB, sideC):\n",
    "        self.sideA=sideA\n",
    "        self.sideB=sideB\n",
    "        self.sideC=sideC\n",
    "    def __str__(self):\n",
    "        return \"First side of the triangle is %d , Second side of the triangle is %d , Third side of the triangle is %d\" %(self.sideA, self.sideB, self.sideC)\n",
    "class area_of_triangle(triangle):\n",
    "    def __init__(self , *args):\n",
    "        super(area_of_triangle, self).__init__(*args)\n",
    "    def area(self):\n",
    "        s=(self.sideA + self.sideB + self.sideC)/2\n",
    "        result = (s*(s-self.sideA)*(s-self.sideB)*(s-self.sideC)) ** 0.5\n",
    "        return result\n",
    "    \n",
    "triangle = area_of_triangle(4,3,2)\n",
    "result = triangle.area()\n",
    "print(\"The area of triangle is: \" , result)    \n",
    "    "
   ]
  },
  {
   "cell_type": "code",
   "execution_count": 32,
   "metadata": {},
   "outputs": [
    {
     "name": "stdout",
     "output_type": "stream",
     "text": [
      "The words that are greater than 5 are: ['Princu', 'student', 'football']\n"
     ]
    }
   ],
   "source": [
    "def filter_long_words(lst , n):\n",
    "    return [flag for flag in lst if len(flag)>n]\n",
    "\n",
    "result = filter_long_words(['Princu', 'Singh' , 'is' , 'a' , 'student' ,'and' , 'football' ,'is' , 'my' , 'hobby'] , 5)\n",
    "print(\"The words that are greater than 5 are:\" , str(result))"
   ]
  },
  {
   "cell_type": "code",
   "execution_count": 34,
   "metadata": {},
   "outputs": [
    {
     "name": "stdout",
     "output_type": "stream",
     "text": [
      "After mapping the list of words into list of integers the result is: [6, 5, 2, 1, 7, 3, 8, 2, 2, 5]\n"
     ]
    }
   ],
   "source": [
    "def map_string(lst):\n",
    "    return [len(item) for item in lst]\n",
    "\n",
    "result = map_string(['Princu', 'Singh' , 'is' , 'a' , 'student' ,'and' , 'football' ,'is' , 'my' , 'hobby'])\n",
    "print(\"After mapping the list of words into list of integers the result is: \" + str(result))"
   ]
  },
  {
   "cell_type": "code",
   "execution_count": 38,
   "metadata": {},
   "outputs": [
    {
     "name": "stdout",
     "output_type": "stream",
     "text": [
      "Enter any character: r\n",
      "Character entered is a vowel: False\n"
     ]
    }
   ],
   "source": [
    "def check_vowel(lst):\n",
    "    vowel=['a' , 'e' , 'i' , 'o' , 'u']\n",
    "    if lst in vowel:\n",
    "        return True\n",
    "    return False\n",
    "char=str(input(\"Enter any character: \"))\n",
    "result = check_vowel(char)\n",
    "print(\"Character entered is a vowel: \" + str(result))"
   ]
  }
 ],
 "metadata": {
  "kernelspec": {
   "display_name": "Python 3",
   "language": "python",
   "name": "python3"
  },
  "language_info": {
   "codemirror_mode": {
    "name": "ipython",
    "version": 3
   },
   "file_extension": ".py",
   "mimetype": "text/x-python",
   "name": "python",
   "nbconvert_exporter": "python",
   "pygments_lexer": "ipython3",
   "version": "3.7.6"
  }
 },
 "nbformat": 4,
 "nbformat_minor": 4
}
